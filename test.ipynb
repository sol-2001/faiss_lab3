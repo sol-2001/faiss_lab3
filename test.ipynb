{
 "cells": [
  {
   "cell_type": "code",
   "execution_count": 17,
   "id": "initial_id",
   "metadata": {
    "collapsed": true,
    "ExecuteTime": {
     "end_time": "2024-09-30T12:13:27.668013300Z",
     "start_time": "2024-09-30T12:13:26.877724700Z"
    }
   },
   "outputs": [
    {
     "name": "stdout",
     "output_type": "stream",
     "text": [
      "Размер обучающей выборки: (60000, 784)\n",
      "Размер тестовой выборки: (10000, 784)\n"
     ]
    }
   ],
   "source": [
    "import numpy as np\n",
    "import pandas as pd\n",
    "import matplotlib.pyplot as plt\n",
    "import seaborn as sns\n",
    "import faiss\n",
    "from sklearn.metrics import accuracy_score\n",
    "from sklearn.neighbors import KDTree\n",
    "from sklearn.preprocessing import normalize\n",
    "import time\n",
    "from scipy.stats import mode\n",
    "from torchvision import datasets, transforms\n",
    "\n",
    "# Загрузка данных\n",
    "transform = transforms.Compose([transforms.ToTensor()])\n",
    "train_dataset = datasets.FashionMNIST(root='./data', train=True, download=True, transform=transform)\n",
    "test_dataset = datasets.FashionMNIST(root='./data', train=False, download=True, transform=transform)\n",
    "\n",
    "# Преобразование данных в numpy массивы\n",
    "def dataset_to_numpy(dataset):\n",
    "    data = dataset.data.numpy()\n",
    "    data = data.reshape(data.shape[0], -1).astype('float32')\n",
    "    return data\n",
    "\n",
    "X_train = dataset_to_numpy(train_dataset)\n",
    "X_test = dataset_to_numpy(test_dataset)\n",
    "\n",
    "# Нормализация данных\n",
    "X_train = normalize(X_train)\n",
    "X_test = normalize(X_test)\n",
    "\n",
    "print(f\"Размер обучающей выборки: {X_train.shape}\")\n",
    "print(f\"Размер тестовой выборки: {X_test.shape}\")"
   ]
  },
  {
   "cell_type": "code",
   "outputs": [
    {
     "name": "stdout",
     "output_type": "stream",
     "text": [
      "Количество векторов в индексе FLAT: 60000\n"
     ]
    }
   ],
   "source": [
    "# Создание индекса FLAT\n",
    "dimension = X_train.shape[1]\n",
    "index_flat = faiss.IndexFlatL2(dimension)\n",
    "index_flat.add(X_train)\n",
    "print(f\"Количество векторов в индексе FLAT: {index_flat.ntotal}\")\n"
   ],
   "metadata": {
    "collapsed": false,
    "ExecuteTime": {
     "end_time": "2024-09-30T12:13:30.831029Z",
     "start_time": "2024-09-30T12:13:30.737655100Z"
    }
   },
   "id": "ffe5a4404189146c",
   "execution_count": 18
  },
  {
   "cell_type": "code",
   "outputs": [],
   "source": [
    "# Параметры для IVF\n",
    "nlist = 100\n",
    "quantizer = faiss.IndexFlatL2(dimension)\n",
    "index_ivf = faiss.IndexIVFFlat(quantizer, dimension, nlist, faiss.METRIC_L2)\n"
   ],
   "metadata": {
    "collapsed": false,
    "ExecuteTime": {
     "end_time": "2024-09-30T12:13:32.542216500Z",
     "start_time": "2024-09-30T12:13:32.425464600Z"
    }
   },
   "id": "cf4cbd2692cdc3b0",
   "execution_count": 19
  },
  {
   "cell_type": "code",
   "outputs": [
    {
     "name": "stdout",
     "output_type": "stream",
     "text": [
      "Количество векторов в индексе IVF: 60000\n"
     ]
    }
   ],
   "source": [
    "# Тренировка индекса\n",
    "index_ivf.train(X_train)\n",
    "if index_ivf.is_trained:\n",
    "    index_ivf.add(X_train)\n",
    "    print(f\"Количество векторов в индексе IVF: {index_ivf.ntotal}\")\n",
    "else:\n",
    "    print(\"Ошибка тренировки индекса IVF\")"
   ],
   "metadata": {
    "collapsed": false,
    "ExecuteTime": {
     "end_time": "2024-09-30T12:13:56.642263400Z",
     "start_time": "2024-09-30T12:13:35.319377500Z"
    }
   },
   "id": "c8447edd27ffbd09",
   "execution_count": 20
  },
  {
   "cell_type": "code",
   "outputs": [
    {
     "name": "stdout",
     "output_type": "stream",
     "text": [
      "Количество векторов в индексе HNSW: 60000\n"
     ]
    }
   ],
   "source": [
    "# Проверка поддержки индекса HNSW\n",
    "try:\n",
    "    index_hnsw = faiss.IndexHNSWFlat(dimension, 128)\n",
    "    index_hnsw.hnsw.efConstruction = 128 \n",
    "    index_hnsw.add(X_train)\n",
    "    index_hnsw.hnsw.efSearch = 64\n",
    "    \n",
    "    print(f\"Количество векторов в индексе HNSW: {index_hnsw.ntotal}\")\n",
    "    \n",
    "except AttributeError:\n",
    "    print(\"Индекс HNSW не поддерживается в вашей версии FAISS.\")\n",
    "except Exception as e:\n",
    "    print(f\"Произошла ошибка при создании индекса HNSW: {e}\")"
   ],
   "metadata": {
    "collapsed": false,
    "ExecuteTime": {
     "end_time": "2024-09-30T13:42:01.226574700Z",
     "start_time": "2024-09-30T13:41:22.986839Z"
    }
   },
   "id": "f1223171b05dddaf",
   "execution_count": 34
  },
  {
   "cell_type": "code",
   "outputs": [],
   "source": [
    "# Функция для вычисления точности\n",
    "def compute_accuracy(true_labels, train_labels, indices, k=5):\n",
    "    top_k_labels = train_labels[indices[:, :k]]\n",
    "    predicted_labels, _ = mode(top_k_labels, axis=1)\n",
    "    predicted_labels = predicted_labels.flatten()\n",
    "    accuracy = accuracy_score(true_labels, predicted_labels)\n",
    "    return accuracy"
   ],
   "metadata": {
    "collapsed": false,
    "ExecuteTime": {
     "end_time": "2024-09-30T13:42:46.111208300Z",
     "start_time": "2024-09-30T13:42:46.101210800Z"
    }
   },
   "id": "28196ebbd556a7a5",
   "execution_count": 35
  },
  {
   "cell_type": "code",
   "outputs": [],
   "source": [
    "# Функция для бенчмаркинга FAISS\n",
    "def benchmark_faiss(index, index_name, X_test, labels_test, k_values, train_labels):\n",
    "    results = []\n",
    "    \n",
    "    for k in k_values:\n",
    "        start_time = time.time()\n",
    "        distances, indices = index.search(X_test, k)\n",
    "        search_time = time.time() - start_time\n",
    "        \n",
    "        accuracy = compute_accuracy(labels_test, train_labels, indices, k)\n",
    "        \n",
    "        results.append({\n",
    "            'Индекс': index_name,\n",
    "            'k': k,\n",
    "            'Время поиска (сек)': search_time,\n",
    "            'Точность': accuracy\n",
    "        })\n",
    "        print(f\"{index_name} - k={k}: Время={search_time:.4f} сек, Точность={accuracy:.4f}\")\n",
    "    \n",
    "    return results"
   ],
   "metadata": {
    "collapsed": false,
    "ExecuteTime": {
     "end_time": "2024-09-30T13:42:48.796148400Z",
     "start_time": "2024-09-30T13:42:48.784396400Z"
    }
   },
   "id": "95200e98569655d7",
   "execution_count": 36
  },
  {
   "cell_type": "code",
   "outputs": [],
   "source": [
    "# Бенчмаркинг KD-дерева\n",
    "def benchmark_kdtree(kdtree, X_test, labels_test, k_values):\n",
    "    results = []\n",
    "    \n",
    "    for k in k_values:\n",
    "        start_time = time.time()\n",
    "        distances, indices = kdtree.query(X_test, k=k)\n",
    "        search_time = time.time() - start_time\n",
    "        \n",
    "        accuracy = compute_accuracy(labels_test, labels_train, indices, k)\n",
    "        \n",
    "        results.append({\n",
    "            'Индекс': 'KD-Tree',\n",
    "            'k': k,\n",
    "            'Время поиска (сек)': search_time,\n",
    "            'Точность': accuracy\n",
    "        })\n",
    "        print(f\"KD-Tree - k={k}: Время={search_time:.4f} сек, Точность={accuracy:.4f}\")\n",
    "    \n",
    "    return results "
   ],
   "metadata": {
    "collapsed": false,
    "ExecuteTime": {
     "end_time": "2024-09-30T13:42:50.031853200Z",
     "start_time": "2024-09-30T13:42:50.020343200Z"
    }
   },
   "id": "35c7387010cbaa0a",
   "execution_count": 37
  },
  {
   "cell_type": "code",
   "outputs": [],
   "source": [
    "# Получение истинных меток\n",
    "labels_train = train_dataset.targets.numpy()\n",
    "labels_test = test_dataset.targets.numpy()"
   ],
   "metadata": {
    "collapsed": false,
    "ExecuteTime": {
     "end_time": "2024-09-30T13:45:30.171278200Z",
     "start_time": "2024-09-30T13:45:30.149152800Z"
    }
   },
   "id": "83cb114488594889",
   "execution_count": 40
  },
  {
   "cell_type": "code",
   "outputs": [
    {
     "name": "stdout",
     "output_type": "stream",
     "text": [
      "FLAT - k=10: Время=379.9240 сек, Точность=0.8529\n",
      "FLAT - k=50: Время=374.7315 сек, Точность=0.8211\n",
      "FLAT - k=100: Время=374.8112 сек, Точность=0.8017\n",
      "FLAT - k=200: Время=375.0076 сек, Точность=0.7836\n",
      "FLAT - k=500: Время=374.8640 сек, Точность=0.7469\n",
      "FLAT - k=700: Время=375.1648 сек, Точность=0.7372\n",
      "FLAT - k=1000: Время=391.7215 сек, Точность=0.7220\n",
      "FLAT - k=1500: Время=386.5404 сек, Точность=0.7055\n",
      "IVF - k=10: Время=2.1727 сек, Точность=0.8411\n",
      "IVF - k=50: Время=1.6747 сек, Точность=0.8151\n",
      "IVF - k=100: Время=1.6825 сек, Точность=0.8013\n",
      "IVF - k=200: Время=1.5680 сек, Точность=0.7899\n",
      "IVF - k=500: Время=1.6026 сек, Точность=0.7563\n",
      "IVF - k=700: Время=1.6619 сек, Точность=0.7035\n",
      "IVF - k=1000: Время=1.6899 сек, Точность=0.6240\n",
      "IVF - k=1500: Время=1.6705 сек, Точность=0.4032\n",
      "HNSW - k=10: Время=5.3568 сек, Точность=0.8527\n",
      "HNSW - k=50: Время=5.3163 сек, Точность=0.8211\n",
      "HNSW - k=100: Время=5.2867 сек, Точность=0.8017\n",
      "HNSW - k=200: Время=5.3025 сек, Точность=0.7835\n",
      "HNSW - k=500: Время=5.2734 сек, Точность=0.7519\n",
      "HNSW - k=700: Время=5.2400 сек, Точность=0.7446\n",
      "HNSW - k=1000: Время=5.2716 сек, Точность=0.7405\n",
      "HNSW - k=1500: Время=5.3866 сек, Точность=0.7342\n",
      "KD-Tree - k=10: Время=569.4475 сек, Точность=0.8529\n",
      "KD-Tree - k=50: Время=622.3120 сек, Точность=0.8211\n",
      "KD-Tree - k=100: Время=713.9615 сек, Точность=0.8017\n",
      "KD-Tree - k=200: Время=645.1319 сек, Точность=0.7836\n",
      "KD-Tree - k=500: Время=641.5133 сек, Точность=0.7469\n",
      "KD-Tree - k=700: Время=648.1709 сек, Точность=0.7372\n",
      "KD-Tree - k=1000: Время=656.7689 сек, Точность=0.7220\n",
      "KD-Tree - k=1500: Время=666.9424 сек, Точность=0.7055\n"
     ]
    }
   ],
   "source": [
    "k_values = [10, 50, 100, 200, 500, 700, 1000, 1500]\n",
    "\n",
    "# Бенчмаркинг индексов FAISS\n",
    "results_flat = benchmark_faiss(index_flat, 'FLAT', X_test, labels_test, k_values, labels_train)\n",
    "results_ivf = benchmark_faiss(index_ivf, 'IVF', X_test, labels_test, k_values, labels_train)\n",
    "\n",
    "if index_hnsw is not None:\n",
    "    results_hnsw = benchmark_faiss(index_hnsw, 'HNSW', X_test, labels_test, k_values, labels_train)\n",
    "else:\n",
    "    results_hnsw = [{'k': k, 'Время поиска (сек)': np.nan, 'Точность': np.nan} for k in k_values]\n",
    "\n",
    "# Бенчмаркинг KD-дерева\n",
    "kd_tree = KDTree(X_train, leaf_size=40, metric='euclidean')\n",
    "results_kdtree = benchmark_kdtree(kd_tree, X_test, labels_test, k_values)"
   ],
   "metadata": {
    "collapsed": false,
    "ExecuteTime": {
     "end_time": "2024-09-30T16:09:14.885557700Z",
     "start_time": "2024-09-30T13:51:03.497209700Z"
    }
   },
   "id": "34fb3c8f6b5dad8b",
   "execution_count": 41
  },
  {
   "cell_type": "code",
   "outputs": [],
   "source": [
    "# Создание DataFrame для результатов\n",
    "def aggregate_results(results, index_name):\n",
    "    df = pd.DataFrame(results)\n",
    "    df['Индекс'] = index_name\n",
    "    return df\n",
    "\n",
    "df_flat = aggregate_results(results_flat, 'FLAT')\n",
    "df_ivf = aggregate_results(results_ivf, 'IVF')\n",
    "df_hnsw = aggregate_results(results_hnsw, 'HNSW')\n",
    "df_kdtree = aggregate_results(results_kdtree, 'KD-Tree')"
   ],
   "metadata": {
    "collapsed": false,
    "ExecuteTime": {
     "end_time": "2024-09-30T17:23:03.579944400Z",
     "start_time": "2024-09-30T17:23:03.459379800Z"
    }
   },
   "id": "d5fe8f3602909c5c",
   "execution_count": 42
  },
  {
   "cell_type": "code",
   "outputs": [
    {
     "name": "stdout",
     "output_type": "stream",
     "text": [
      "\n",
      "Сводная таблица результатов:\n",
      "    Индекс  Время поиска (сек)  Точность\n",
      "0     FLAT          379.095627  0.771362\n",
      "1     HNSW            5.304236  0.778775\n",
      "2      IVF            1.715345  0.716800\n",
      "3  KD-Tree          645.531045  0.771362\n"
     ]
    }
   ],
   "source": [
    "# Объединение всех результатов\n",
    "benchmark_df = pd.concat([df_flat, df_ivf, df_hnsw, df_kdtree], ignore_index=True)\n",
    "summary_df = benchmark_df.groupby('Индекс').agg({\n",
    "    'Время поиска (сек)': 'mean',\n",
    "    'Точность': 'mean'\n",
    "}).reset_index()\n",
    "\n",
    "print(\"\\nСводная таблица результатов:\")\n",
    "print(summary_df)\n"
   ],
   "metadata": {
    "collapsed": false,
    "ExecuteTime": {
     "end_time": "2024-09-30T17:23:08.254270300Z",
     "start_time": "2024-09-30T17:23:08.179892700Z"
    }
   },
   "id": "d4417ab5e0527713",
   "execution_count": 43
  },
  {
   "cell_type": "code",
   "outputs": [
    {
     "data": {
      "text/plain": "<Figure size 1200x800 with 1 Axes>",
      "image/png": "[encoded data removed]"
     },
     "metadata": {},
     "output_type": "display_data"
    },
    {
     "data": {
      "text/plain": "<Figure size 1200x800 with 1 Axes>",
      "image/png": "[encoded data removed]"
     },
     "metadata": {},
     "output_type": "display_data"
    }
   ],
   "source": [
    "# Визуализация\n",
    "plt.figure(figsize=(12, 8))\n",
    "sns.barplot(x='Индекс', y='Время поиска (сек)', data=summary_df)\n",
    "plt.title('Сравнение среднего времени поиска различных индексов')\n",
    "plt.xlabel('Индекс')\n",
    "plt.ylabel('Среднее время поиска (сек)')\n",
    "plt.show()\n",
    "\n",
    "plt.figure(figsize=(12, 8))\n",
    "sns.barplot(x='Индекс', y='Точность', data=summary_df)\n",
    "plt.title('Сравнение средней точности поиска различных индексов')\n",
    "plt.xlabel('Индекс')\n",
    "plt.ylabel('Средняя точность')\n",
    "plt.show()\n"
   ],
   "metadata": {
    "collapsed": false,
    "ExecuteTime": {
     "end_time": "2024-09-30T17:23:22.513454900Z",
     "start_time": "2024-09-30T17:23:21.215167800Z"
    }
   },
   "id": "833a00e42b7f20f5",
   "execution_count": 44
  },
  {
   "cell_type": "code",
   "outputs": [],
   "source": [],
   "metadata": {
    "collapsed": false
   },
   "id": "356f0981fdd07624"
  }
 ],
 "metadata": {
  "kernelspec": {
   "display_name": "Python 3",
   "language": "python",
   "name": "python3"
  },
  "language_info": {
   "codemirror_mode": {
    "name": "ipython",
    "version": 2
   },
   "file_extension": ".py",
   "mimetype": "text/x-python",
   "name": "python",
   "nbconvert_exporter": "python",
   "pygments_lexer": "ipython2",
   "version": "2.7.6"
  }
 },
 "nbformat": 4,
 "nbformat_minor": 5
}
